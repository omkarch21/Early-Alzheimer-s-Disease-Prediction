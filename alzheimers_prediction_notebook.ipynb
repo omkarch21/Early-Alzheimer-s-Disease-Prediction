{
 "cells": [
  {
   "cell_type": "markdown",
   "id": "fba4e03f",
   "metadata": {},
   "source": [
    "# Early Alzheimer’s Prediction — Ready-to-Run Notebook\n",
    "\n"
   ]
  },
  {
   "cell_type": "code",
   "execution_count": 11,
   "id": "8c4e794b",
   "metadata": {},
   "outputs": [
    {
     "name": "stdout",
     "output_type": "stream",
     "text": [
      "Libraries imported.\n"
     ]
    }
   ],
   "source": [
    "## 1) Install & import required libraries\n",
    "# (Uncomment the pip install line if you need to install any missing packages)\n",
    "\n",
    "# !pip install -q scikit-learn pandas seaborn matplotlib xgboost joblib\n",
    "\n",
    "import os\n",
    "from pathlib import Path\n",
    "import pandas as pd\n",
    "import numpy as np\n",
    "import matplotlib.pyplot as plt\n",
    "import seaborn as sns\n",
    "\n",
    "from sklearn.model_selection import train_test_split\n",
    "from sklearn.preprocessing import LabelEncoder, OneHotEncoder, StandardScaler\n",
    "from sklearn.impute import SimpleImputer\n",
    "from sklearn.linear_model import LogisticRegression\n",
    "from sklearn.ensemble import RandomForestClassifier\n",
    "from sklearn.svm import SVC\n",
    "from sklearn.metrics import accuracy_score, confusion_matrix, classification_report, roc_auc_score, roc_curve\n",
    "import joblib\n",
    "\n",
    "sns.set(style='whitegrid')\n",
    "print('Libraries imported.')"
   ]
  },
  {
   "cell_type": "code",
   "execution_count": 12,
   "id": "d710b774",
   "metadata": {},
   "outputs": [
    {
     "name": "stdout",
     "output_type": "stream",
     "text": [
      "Loaded cross-sectional: (436, 12)\n",
      "Loaded longitudinal: (373, 15)\n"
     ]
    },
    {
     "data": {
      "text/html": [
       "<div>\n",
       "<style scoped>\n",
       "    .dataframe tbody tr th:only-of-type {\n",
       "        vertical-align: middle;\n",
       "    }\n",
       "\n",
       "    .dataframe tbody tr th {\n",
       "        vertical-align: top;\n",
       "    }\n",
       "\n",
       "    .dataframe thead th {\n",
       "        text-align: right;\n",
       "    }\n",
       "</style>\n",
       "<table border=\"1\" class=\"dataframe\">\n",
       "  <thead>\n",
       "    <tr style=\"text-align: right;\">\n",
       "      <th></th>\n",
       "      <th>ID</th>\n",
       "      <th>M/F</th>\n",
       "      <th>Hand</th>\n",
       "      <th>Age</th>\n",
       "      <th>Educ</th>\n",
       "      <th>SES</th>\n",
       "      <th>MMSE</th>\n",
       "      <th>CDR</th>\n",
       "      <th>eTIV</th>\n",
       "      <th>nWBV</th>\n",
       "      <th>ASF</th>\n",
       "      <th>Delay</th>\n",
       "    </tr>\n",
       "  </thead>\n",
       "  <tbody>\n",
       "    <tr>\n",
       "      <th>0</th>\n",
       "      <td>OAS1_0001_MR1</td>\n",
       "      <td>F</td>\n",
       "      <td>R</td>\n",
       "      <td>74</td>\n",
       "      <td>2.0</td>\n",
       "      <td>3.0</td>\n",
       "      <td>29.0</td>\n",
       "      <td>0.0</td>\n",
       "      <td>1344</td>\n",
       "      <td>0.743</td>\n",
       "      <td>1.306</td>\n",
       "      <td>NaN</td>\n",
       "    </tr>\n",
       "    <tr>\n",
       "      <th>1</th>\n",
       "      <td>OAS1_0002_MR1</td>\n",
       "      <td>F</td>\n",
       "      <td>R</td>\n",
       "      <td>55</td>\n",
       "      <td>4.0</td>\n",
       "      <td>1.0</td>\n",
       "      <td>29.0</td>\n",
       "      <td>0.0</td>\n",
       "      <td>1147</td>\n",
       "      <td>0.810</td>\n",
       "      <td>1.531</td>\n",
       "      <td>NaN</td>\n",
       "    </tr>\n",
       "    <tr>\n",
       "      <th>2</th>\n",
       "      <td>OAS1_0003_MR1</td>\n",
       "      <td>F</td>\n",
       "      <td>R</td>\n",
       "      <td>73</td>\n",
       "      <td>4.0</td>\n",
       "      <td>3.0</td>\n",
       "      <td>27.0</td>\n",
       "      <td>0.5</td>\n",
       "      <td>1454</td>\n",
       "      <td>0.708</td>\n",
       "      <td>1.207</td>\n",
       "      <td>NaN</td>\n",
       "    </tr>\n",
       "    <tr>\n",
       "      <th>3</th>\n",
       "      <td>OAS1_0004_MR1</td>\n",
       "      <td>M</td>\n",
       "      <td>R</td>\n",
       "      <td>28</td>\n",
       "      <td>NaN</td>\n",
       "      <td>NaN</td>\n",
       "      <td>NaN</td>\n",
       "      <td>NaN</td>\n",
       "      <td>1588</td>\n",
       "      <td>0.803</td>\n",
       "      <td>1.105</td>\n",
       "      <td>NaN</td>\n",
       "    </tr>\n",
       "    <tr>\n",
       "      <th>4</th>\n",
       "      <td>OAS1_0005_MR1</td>\n",
       "      <td>M</td>\n",
       "      <td>R</td>\n",
       "      <td>18</td>\n",
       "      <td>NaN</td>\n",
       "      <td>NaN</td>\n",
       "      <td>NaN</td>\n",
       "      <td>NaN</td>\n",
       "      <td>1737</td>\n",
       "      <td>0.848</td>\n",
       "      <td>1.010</td>\n",
       "      <td>NaN</td>\n",
       "    </tr>\n",
       "  </tbody>\n",
       "</table>\n",
       "</div>"
      ],
      "text/plain": [
       "              ID M/F Hand  Age  Educ  SES  MMSE  CDR  eTIV   nWBV    ASF  \\\n",
       "0  OAS1_0001_MR1   F    R   74   2.0  3.0  29.0  0.0  1344  0.743  1.306   \n",
       "1  OAS1_0002_MR1   F    R   55   4.0  1.0  29.0  0.0  1147  0.810  1.531   \n",
       "2  OAS1_0003_MR1   F    R   73   4.0  3.0  27.0  0.5  1454  0.708  1.207   \n",
       "3  OAS1_0004_MR1   M    R   28   NaN  NaN   NaN  NaN  1588  0.803  1.105   \n",
       "4  OAS1_0005_MR1   M    R   18   NaN  NaN   NaN  NaN  1737  0.848  1.010   \n",
       "\n",
       "   Delay  \n",
       "0    NaN  \n",
       "1    NaN  \n",
       "2    NaN  \n",
       "3    NaN  \n",
       "4    NaN  "
      ]
     },
     "metadata": {},
     "output_type": "display_data"
    }
   ],
   "source": [
    "## 2) Load datasets\n",
    "# Adjust the paths if your files are in a different location\n",
    "cross_path = 'oasis_cross-sectional.csv'\n",
    "long_path = 'oasis_longitudinal.csv'\n",
    "\n",
    "datasets = {}\n",
    "\n",
    "if Path(cross_path).exists():\n",
    "    datasets['cross'] = pd.read_csv(cross_path)\n",
    "    print('Loaded cross-sectional:', datasets['cross'].shape)\n",
    "else:\n",
    "    print('Cross-sectional file not found at', cross_path)\n",
    "\n",
    "if Path(long_path).exists():\n",
    "    datasets['long'] = pd.read_csv(long_path)\n",
    "    print('Loaded longitudinal:', datasets['long'].shape)\n",
    "else:\n",
    "    print('Longitudinal file not found at', long_path)\n",
    "\n",
    "# Show head of cross-sectional if present\n",
    "if 'cross' in datasets:\n",
    "    display(datasets['cross'].head())"
   ]
  },
  {
   "cell_type": "markdown",
   "id": "df2a3826",
   "metadata": {},
   "source": [
    "## 3) Quick inspection — columns, dtypes, missing values"
   ]
  },
  {
   "cell_type": "code",
   "execution_count": 13,
   "id": "7b04019e",
   "metadata": {},
   "outputs": [
    {
     "name": "stdout",
     "output_type": "stream",
     "text": [
      "Shape: (436, 12)\n",
      "\n",
      "Columns:\n",
      "['ID', 'M/F', 'Hand', 'Age', 'Educ', 'SES', 'MMSE', 'CDR', 'eTIV', 'nWBV', 'ASF', 'Delay']\n",
      "\n",
      "Info:\n",
      "<class 'pandas.core.frame.DataFrame'>\n",
      "RangeIndex: 436 entries, 0 to 435\n",
      "Data columns (total 12 columns):\n",
      " #   Column  Non-Null Count  Dtype  \n",
      "---  ------  --------------  -----  \n",
      " 0   ID      436 non-null    object \n",
      " 1   M/F     436 non-null    object \n",
      " 2   Hand    436 non-null    object \n",
      " 3   Age     436 non-null    int64  \n",
      " 4   Educ    235 non-null    float64\n",
      " 5   SES     216 non-null    float64\n",
      " 6   MMSE    235 non-null    float64\n",
      " 7   CDR     235 non-null    float64\n",
      " 8   eTIV    436 non-null    int64  \n",
      " 9   nWBV    436 non-null    float64\n",
      " 10  ASF     436 non-null    float64\n",
      " 11  Delay   20 non-null     float64\n",
      "dtypes: float64(7), int64(2), object(3)\n",
      "memory usage: 41.0+ KB\n",
      "\n",
      "Missing values:\n",
      "ID         0\n",
      "M/F        0\n",
      "Hand       0\n",
      "Age        0\n",
      "Educ     201\n",
      "SES      220\n",
      "MMSE     201\n",
      "CDR      201\n",
      "eTIV       0\n",
      "nWBV       0\n",
      "ASF        0\n",
      "Delay    416\n",
      "dtype: int64\n"
     ]
    }
   ],
   "source": [
    "df = datasets.get('cross').copy()\n",
    "\n",
    "print('Shape:', df.shape)\n",
    "print('\\nColumns:')\n",
    "print(df.columns.tolist())\n",
    "\n",
    "print('\\nInfo:')\n",
    "df.info()\n",
    "\n",
    "print('\\nMissing values:')\n",
    "print(df.isnull().sum())"
   ]
  },
  {
   "cell_type": "markdown",
   "id": "7711e8b1",
   "metadata": {},
   "source": [
    "## 4) Create target column `Group` (if missing) — from `CDR` or existing `Group` column\n",
    "We will create a binary target `Group`: 0 = non-demented (CDR == 0), 1 = demented (CDR > 0)."
   ]
  },
  {
   "cell_type": "code",
   "execution_count": 14,
   "id": "0c720a89",
   "metadata": {},
   "outputs": [
    {
     "name": "stdout",
     "output_type": "stream",
     "text": [
      "Derived Group from CDR.\n",
      "\n",
      "Group value counts:\n",
      "Group\n",
      "0    336\n",
      "1    100\n",
      "Name: count, dtype: int64\n"
     ]
    }
   ],
   "source": [
    "# Create or normalize target\n",
    "if 'Group' in df.columns:\n",
    "    # try to standardize values\n",
    "    print('Original Group unique values:', df['Group'].unique())\n",
    "    try:\n",
    "        df['Group'] = df['Group'].map({'Nondemented':0, 'Non-demented':0, 'Nondemented ':0, 'Demented':1, 'Converted':1}).fillna(df['Group'])\n",
    "    except Exception as e:\n",
    "        pass\n",
    "\n",
    "# If Group still not binary, derive from CDR\n",
    "if 'Group' not in df.columns or df['Group'].dtype == object:\n",
    "    if 'CDR' in df.columns:\n",
    "        df['CDR'] = pd.to_numeric(df['CDR'], errors='coerce').fillna(0)\n",
    "        df['Group'] = df['CDR'].apply(lambda x: 1 if x>0 else 0)\n",
    "        print('Derived Group from CDR.')\n",
    "    else:\n",
    "        raise ValueError('No suitable target column found. Please ensure CDR or Group column exists in the cross-sectional dataset')\n",
    "\n",
    "print('\\nGroup value counts:')\n",
    "print(df['Group'].value_counts())"
   ]
  },
  {
   "cell_type": "markdown",
   "id": "3c77a269",
   "metadata": {},
   "source": [
    "## 5) Clean columns: drop fully-empty columns, and ID-like columns\n",
    "We’ll also detect columns that appear numeric but contain non-numeric entries and treat them as categorical."
   ]
  },
  {
   "cell_type": "code",
   "execution_count": 15,
   "id": "fe1c7ca4",
   "metadata": {},
   "outputs": [
    {
     "name": "stdout",
     "output_type": "stream",
     "text": [
      "Dropped 1 empty/ID columns. Remaining columns: 12\n",
      "Columns that look numeric but contain non-numeric entries (treat as categorical): ['M/F', 'Hand']\n",
      "\n",
      " M/F unique sample: ['F' 'M']\n",
      "\n",
      " Hand unique sample: ['R']\n"
     ]
    }
   ],
   "source": [
    "# Drop fully empty columns and obvious non-feature columns\n",
    "cols_before = df.shape[1]\n",
    "df = df.dropna(axis=1, how='all')\n",
    "# drop ID if present\n",
    "for c in ['ID', ' Subject ID', 'subject_id']:\n",
    "    if c in df.columns:\n",
    "        df = df.drop(columns=[c])\n",
    "\n",
    "print(f'Dropped {cols_before - df.shape[1]} empty/ID columns. Remaining columns: {df.shape[1]}')\n",
    "\n",
    "# Identify columns with mixed types by attempting conversion\n",
    "mixed_cols = []\n",
    "for col in df.columns:\n",
    "    # skip target\n",
    "    if col == 'Group':\n",
    "        continue\n",
    "    series = df[col]\n",
    "    # attempt numeric conversion\n",
    "    coerced = pd.to_numeric(series, errors='coerce')\n",
    "    n_non_numeric = coerced.isna().sum() - series.isna().sum()  # new NaNs introduced\n",
    "    if n_non_numeric > 0:\n",
    "        mixed_cols.append(col)\n",
    "\n",
    "print('Columns that look numeric but contain non-numeric entries (treat as categorical):', mixed_cols)\n",
    "\n",
    "# Show sample values for those columns\n",
    "for col in mixed_cols:\n",
    "    print('\\n', col, 'unique sample:', df[col].dropna().unique()[:20])"
   ]
  },
  {
   "cell_type": "markdown",
   "id": "b9b38e91",
   "metadata": {},
   "source": [
    "## 6) Separate numeric and categorical columns explicitly and impute missing values safely"
   ]
  },
  {
   "cell_type": "code",
   "execution_count": 16,
   "id": "b5f3aa8c",
   "metadata": {},
   "outputs": [
    {
     "name": "stdout",
     "output_type": "stream",
     "text": [
      "Numeric columns: ['Age', 'Educ', 'SES', 'MMSE', 'CDR', 'eTIV', 'nWBV', 'ASF', 'Delay', 'Group']\n",
      "Categorical columns: ['M/F', 'Hand']\n",
      "\n",
      "Missing values after imputation:\n",
      "M/F      0\n",
      "Hand     0\n",
      "Age      0\n",
      "Educ     0\n",
      "SES      0\n",
      "MMSE     0\n",
      "CDR      0\n",
      "eTIV     0\n",
      "nWBV     0\n",
      "ASF      0\n",
      "Delay    0\n",
      "Group    0\n",
      "dtype: int64\n"
     ]
    }
   ],
   "source": [
    "num_cols = df.select_dtypes(include=[np.number]).columns.tolist()\n",
    "cat_cols = [c for c in df.columns if c not in num_cols and c!='Group']\n",
    "\n",
    "print('Numeric columns:', num_cols)\n",
    "print('Categorical columns:', cat_cols)\n",
    "\n",
    "# For safety, move any mixed_cols into categorical\n",
    "for c in list(df.columns):\n",
    "    if c in cat_cols and df[c].dtype==object:\n",
    "        # keep as categorical\n",
    "        pass\n",
    "\n",
    "from sklearn.impute import SimpleImputer\n",
    "\n",
    "# Impute numeric with median\n",
    "if num_cols:\n",
    "    num_imputer = SimpleImputer(strategy='median')\n",
    "    num_array = num_imputer.fit_transform(df[num_cols])\n",
    "    df[num_cols] = pd.DataFrame(num_array, columns=num_cols, index=df.index)\n",
    "\n",
    "# Impute categorical with most frequent\n",
    "if cat_cols:\n",
    "    cat_imputer = SimpleImputer(strategy='most_frequent')\n",
    "    cat_array = cat_imputer.fit_transform(df[cat_cols])\n",
    "    df[cat_cols] = pd.DataFrame(cat_array, columns=cat_cols, index=df.index)\n",
    "\n",
    "print('\\nMissing values after imputation:')\n",
    "print(df.isnull().sum())"
   ]
  },
  {
   "cell_type": "markdown",
   "id": "51964af2",
   "metadata": {},
   "source": [
    "## 7) Encode categorical variables\n",
    "We will label-encode binary categoricals and one-hot encode non-binary categoricals (but keep encoding simple to avoid too many columns)."
   ]
  },
  {
   "cell_type": "code",
   "execution_count": 17,
   "id": "e7042a6c",
   "metadata": {},
   "outputs": [
    {
     "name": "stdout",
     "output_type": "stream",
     "text": [
      "Categorical columns to encode: ['M/F', 'Hand']\n",
      "One-hot: ['M/F', 'Hand']\n",
      "Label-encode: []\n",
      "\n",
      "Shape after encoding: (436, 11)\n"
     ]
    }
   ],
   "source": [
    "# Identify categorical columns again (after imputation)\n",
    "cat_cols = [c for c in df.columns if df[c].dtype == object and c!='Group']\n",
    "print('Categorical columns to encode:', cat_cols)\n",
    "\n",
    "# For low-cardinality categorical columns use one-hot encoding, else label encode\n",
    "from sklearn.preprocessing import OneHotEncoder\n",
    "\n",
    "to_onehot = []\n",
    "to_label = []\n",
    "for c in cat_cols:\n",
    "    n_unique = df[c].nunique()\n",
    "    if n_unique <= 6:\n",
    "        to_onehot.append(c)\n",
    "    else:\n",
    "        to_label.append(c)\n",
    "\n",
    "print('One-hot:', to_onehot)\n",
    "print('Label-encode:', to_label)\n",
    "\n",
    "# Label encode\n",
    "le_map = {}\n",
    "for c in to_label:\n",
    "    le = LabelEncoder()\n",
    "    df[c] = le.fit_transform(df[c].astype(str))\n",
    "    le_map[c] = le\n",
    "\n",
    "# One-hot encode\n",
    "if to_onehot:\n",
    "    df = pd.get_dummies(df, columns=to_onehot, drop_first=True)\n",
    "\n",
    "print('\\nShape after encoding:', df.shape)"
   ]
  },
  {
   "cell_type": "markdown",
   "id": "f68d4d37",
   "metadata": {},
   "source": [
    "## 8) Prepare X and y, scale features, and split dataset"
   ]
  },
  {
   "cell_type": "code",
   "execution_count": 18,
   "id": "2ac857c4",
   "metadata": {},
   "outputs": [
    {
     "name": "stdout",
     "output_type": "stream",
     "text": [
      "Final feature matrix shape: (436, 10)\n",
      "Train shape: (348, 10) Test shape: (88, 10)\n"
     ]
    }
   ],
   "source": [
    "X = df.drop(['Group'], axis=1)\n",
    "y = df['Group']\n",
    "\n",
    "print('Final feature matrix shape:', X.shape)\n",
    "\n",
    "scaler = StandardScaler()\n",
    "X_scaled = scaler.fit_transform(X)\n",
    "\n",
    "# Split\n",
    "X_train, X_test, y_train, y_test = train_test_split(X_scaled, y, test_size=0.2, random_state=42, stratify=y)\n",
    "print('Train shape:', X_train.shape, 'Test shape:', X_test.shape)"
   ]
  },
  {
   "cell_type": "markdown",
   "id": "b49192a3",
   "metadata": {},
   "source": [
    "## 9) Train and evaluate models: Logistic Regression, Random Forest, SVM"
   ]
  },
  {
   "cell_type": "code",
   "execution_count": 19,
   "id": "82019905",
   "metadata": {},
   "outputs": [
    {
     "name": "stdout",
     "output_type": "stream",
     "text": [
      "--- Logistic Regression ---\n",
      "Accuracy: 1.0\n",
      "ROC AUC: 1.0\n",
      "              precision    recall  f1-score   support\n",
      "\n",
      "         0.0       1.00      1.00      1.00        68\n",
      "         1.0       1.00      1.00      1.00        20\n",
      "\n",
      "    accuracy                           1.00        88\n",
      "   macro avg       1.00      1.00      1.00        88\n",
      "weighted avg       1.00      1.00      1.00        88\n",
      "\n",
      "\n",
      "\n",
      "--- Random Forest ---\n",
      "Accuracy: 1.0\n",
      "ROC AUC: 1.0\n",
      "              precision    recall  f1-score   support\n",
      "\n",
      "         0.0       1.00      1.00      1.00        68\n",
      "         1.0       1.00      1.00      1.00        20\n",
      "\n",
      "    accuracy                           1.00        88\n",
      "   macro avg       1.00      1.00      1.00        88\n",
      "weighted avg       1.00      1.00      1.00        88\n",
      "\n",
      "\n",
      "\n",
      "--- SVM ---\n",
      "Accuracy: 1.0\n",
      "ROC AUC: 1.0\n",
      "              precision    recall  f1-score   support\n",
      "\n",
      "         0.0       1.00      1.00      1.00        68\n",
      "         1.0       1.00      1.00      1.00        20\n",
      "\n",
      "    accuracy                           1.00        88\n",
      "   macro avg       1.00      1.00      1.00        88\n",
      "weighted avg       1.00      1.00      1.00        88\n",
      "\n",
      "\n",
      "\n",
      "                 Model  Accuracy  ROC_AUC\n",
      "0  Logistic Regression       1.0      1.0\n",
      "1        Random Forest       1.0      1.0\n",
      "2                  SVM       1.0      1.0\n"
     ]
    }
   ],
   "source": [
    "models = {}\n",
    "\n",
    "# Logistic Regression\n",
    "log = LogisticRegression(max_iter=1000)\n",
    "log.fit(X_train, y_train)\n",
    "models['Logistic Regression'] = log\n",
    "\n",
    "# Random Forest\n",
    "rf = RandomForestClassifier(n_estimators=200, random_state=42)\n",
    "rf.fit(X_train, y_train)\n",
    "models['Random Forest'] = rf\n",
    "\n",
    "# SVM\n",
    "svm = SVC(kernel='rbf', probability=True)\n",
    "svm.fit(X_train, y_train)\n",
    "models['SVM'] = svm\n",
    "\n",
    "# Evaluate\n",
    "results = {}\n",
    "for name, m in models.items():\n",
    "    y_pred = m.predict(X_test)\n",
    "    y_proba = m.predict_proba(X_test)[:,1] if hasattr(m, 'predict_proba') else None\n",
    "    acc = accuracy_score(y_test, y_pred)\n",
    "    auc = roc_auc_score(y_test, y_proba) if y_proba is not None else None\n",
    "    results[name] = {'accuracy': acc, 'roc_auc': auc, 'y_pred': y_pred}\n",
    "    print(f\"--- {name} ---\")\n",
    "    print('Accuracy:', acc)\n",
    "    if auc is not None:\n",
    "        print('ROC AUC:', auc)\n",
    "    print(classification_report(y_test, y_pred))\n",
    "    print('\\n')\n",
    "\n",
    "# Summary\n",
    "res_df = pd.DataFrame([{ 'Model': k, 'Accuracy': v['accuracy'], 'ROC_AUC': v['roc_auc'] } for k,v in results.items()])\n",
    "print(res_df)"
   ]
  },
  {
   "cell_type": "markdown",
   "id": "5db1dcfd",
   "metadata": {},
   "source": [
    "## 10) Visual comparisons: accuracy bar chart and ROC curves"
   ]
  },
  {
   "cell_type": "code",
   "execution_count": 20,
   "id": "4a357d70",
   "metadata": {},
   "outputs": [
    {
     "data": {
      "image/png": "[encoded data removed]",
      "text/plain": [
       "<Figure size 800x500 with 1 Axes>"
      ]
     },
     "metadata": {},
     "output_type": "display_data"
    },
    {
     "data": {
      "image/png": "[encoded data removed]",
      "text/plain": [
       "<Figure size 800x600 with 1 Axes>"
      ]
     },
     "metadata": {},
     "output_type": "display_data"
    }
   ],
   "source": [
    "plt.figure(figsize=(8,5))\n",
    "sns.barplot(x='Model', y='Accuracy', data=res_df)\n",
    "plt.ylim(0,1)\n",
    "plt.title('Model Accuracy Comparison')\n",
    "plt.show()\n",
    "\n",
    "# ROC curves\n",
    "plt.figure(figsize=(8,6))\n",
    "for name, m in models.items():\n",
    "    if hasattr(m, 'predict_proba'):\n",
    "        y_proba = m.predict_proba(X_test)[:,1]\n",
    "        fpr, tpr, _ = roc_curve(y_test, y_proba)\n",
    "        plt.plot(fpr, tpr, label=f\"{name} (AUC={roc_auc_score(y_test, y_proba):.3f})\")\n",
    "\n",
    "plt.plot([0,1],[0,1],'k--')\n",
    "plt.xlabel('False Positive Rate')\n",
    "plt.ylabel('True Positive Rate')\n",
    "plt.title('ROC Curves')\n",
    "plt.legend()\n",
    "plt.show()"
   ]
  },
  {
   "cell_type": "markdown",
   "id": "110c1855",
   "metadata": {},
   "source": [
    "## 11) Confusion matrix for best model (by accuracy)"
   ]
  },
  {
   "cell_type": "code",
   "execution_count": 21,
   "id": "5f92ec14",
   "metadata": {},
   "outputs": [
    {
     "name": "stdout",
     "output_type": "stream",
     "text": [
      "Best model: Logistic Regression\n"
     ]
    },
    {
     "data": {
      "image/png": "[encoded data removed]",
      "text/plain": [
       "<Figure size 500x400 with 2 Axes>"
      ]
     },
     "metadata": {},
     "output_type": "display_data"
    }
   ],
   "source": [
    "# Find best model by accuracy\n",
    "best_name = res_df.sort_values('Accuracy', ascending=False).iloc[0]['Model']\n",
    "best_model = models[best_name]\n",
    "print('Best model:', best_name)\n",
    "\n",
    "# Confusion matrix\n",
    "cm = confusion_matrix(y_test, results[best_name]['y_pred'])\n",
    "plt.figure(figsize=(5,4))\n",
    "sns.heatmap(cm, annot=True, fmt='d', cmap='Blues')\n",
    "plt.xlabel('Predicted')\n",
    "plt.ylabel('Actual')\n",
    "plt.title(f'Confusion Matrix - {best_name}')\n",
    "plt.show()\n",
    "\n",
    "# Feature importance if random forest\n",
    "if best_name == 'Random Forest':\n",
    "    fi = pd.Series(best_model.feature_importances_, index=X.columns).sort_values(ascending=False).head(20)\n",
    "    plt.figure(figsize=(8,6))\n",
    "    fi.plot(kind='bar')\n",
    "    plt.title('Top 20 Feature Importances (Random Forest)')\n",
    "    plt.show()"
   ]
  },
  {
   "cell_type": "markdown",
   "id": "13089d84",
   "metadata": {},
   "source": [
    "## 12) Save the best model and scaler\n",
    "These files can be loaded later for prediction or for a Streamlit app."
   ]
  },
  {
   "cell_type": "code",
   "execution_count": 14,
   "id": "78ab8aa0",
   "metadata": {},
   "outputs": [
    {
     "name": "stdout",
     "output_type": "stream",
     "text": [
      "Saved best model and scaler to \\mnt\\data\\models\n"
     ]
    }
   ],
   "source": [
    "output_dir = Path('/mnt/data/models')\n",
    "output_dir.mkdir(parents=True, exist_ok=True)\n",
    "\n",
    "joblib.dump(best_model, output_dir/'best_model.pkl')\n",
    "joblib.dump(scaler, output_dir/'scaler.pkl')\n",
    "print('Saved best model and scaler to', output_dir)"
   ]
  },
  {
   "cell_type": "markdown",
   "id": "2564d826",
   "metadata": {},
   "source": [
    "## 13) Quick predictor function (example)\n",
    "You can use this function to pass a single patient's data (as a pandas Series or 1D array after preprocessing) and get a prediction."
   ]
  },
  {
   "cell_type": "code",
   "execution_count": 22,
   "id": "3aca1cdd",
   "metadata": {},
   "outputs": [
    {
     "name": "stdout",
     "output_type": "stream",
     "text": [
      "Predict function defined. Example (zeros):\n",
      "{'prediction': 1, 'probability': 0.9999645225150778}\n"
     ]
    }
   ],
   "source": [
    "def predict_single(sample_dict):\n",
    "    \"\"\"sample_dict: dictionary of raw feature values matching original X.columns order\"\"\"\n",
    "    s = pd.DataFrame([sample_dict])\n",
    "    # apply same preprocessing steps used above: impute missing, encode, scale\n",
    "    # For simplicity, assume sample_dict has all columns in the same form as df before encoding\n",
    "    # Here we only scale and predict (for full pipeline use sklearn Pipeline when saving)\n",
    "    s = s.reindex(columns=X.columns, fill_value=0)\n",
    "    s_scaled = scaler.transform(s)\n",
    "    pred = best_model.predict(s_scaled)[0]\n",
    "    proba = best_model.predict_proba(s_scaled)[:,1][0] if hasattr(best_model, 'predict_proba') else None\n",
    "    return {'prediction': int(pred), 'probability': float(proba) if proba is not None else None}\n",
    "\n",
    "print('Predict function defined. Example (zeros):')\n",
    "print(predict_single({c:0 for c in X.columns}))"
   ]
  },
  {
   "cell_type": "code",
   "execution_count": 15,
   "id": "d699537b-3ab6-4a02-a59c-15b62eac511d",
   "metadata": {},
   "outputs": [
    {
     "name": "stdout",
     "output_type": "stream",
     "text": [
      "Requirement already satisfied: streamlit in c:\\users\\mahes\\anaconda3\\lib\\site-packages (1.45.1)\n",
      "Requirement already satisfied: altair<6,>=4.0 in c:\\users\\mahes\\anaconda3\\lib\\site-packages (from streamlit) (5.5.0)\n",
      "Requirement already satisfied: blinker<2,>=1.5.0 in c:\\users\\mahes\\anaconda3\\lib\\site-packages (from streamlit) (1.9.0)\n",
      "Requirement already satisfied: cachetools<6,>=4.0 in c:\\users\\mahes\\anaconda3\\lib\\site-packages (from streamlit) (5.5.1)\n",
      "Requirement already satisfied: click<9,>=7.0 in c:\\users\\mahes\\anaconda3\\lib\\site-packages (from streamlit) (8.1.8)\n",
      "Requirement already satisfied: numpy<3,>=1.23 in c:\\users\\mahes\\anaconda3\\lib\\site-packages (from streamlit) (2.1.3)\n",
      "Requirement already satisfied: packaging<25,>=20 in c:\\users\\mahes\\anaconda3\\lib\\site-packages (from streamlit) (24.2)\n",
      "Requirement already satisfied: pandas<3,>=1.4.0 in c:\\users\\mahes\\anaconda3\\lib\\site-packages (from streamlit) (2.2.3)\n",
      "Requirement already satisfied: pillow<12,>=7.1.0 in c:\\users\\mahes\\anaconda3\\lib\\site-packages (from streamlit) (11.1.0)\n",
      "Requirement already satisfied: protobuf<7,>=3.20 in c:\\users\\mahes\\anaconda3\\lib\\site-packages (from streamlit) (5.29.3)\n",
      "Requirement already satisfied: pyarrow>=7.0 in c:\\users\\mahes\\anaconda3\\lib\\site-packages (from streamlit) (19.0.0)\n",
      "Requirement already satisfied: requests<3,>=2.27 in c:\\users\\mahes\\anaconda3\\lib\\site-packages (from streamlit) (2.32.3)\n",
      "Requirement already satisfied: tenacity<10,>=8.1.0 in c:\\users\\mahes\\anaconda3\\lib\\site-packages (from streamlit) (9.0.0)\n",
      "Requirement already satisfied: toml<2,>=0.10.1 in c:\\users\\mahes\\anaconda3\\lib\\site-packages (from streamlit) (0.10.2)\n",
      "Requirement already satisfied: typing-extensions<5,>=4.4.0 in c:\\users\\mahes\\anaconda3\\lib\\site-packages (from streamlit) (4.12.2)\n",
      "Requirement already satisfied: watchdog<7,>=2.1.5 in c:\\users\\mahes\\anaconda3\\lib\\site-packages (from streamlit) (4.0.2)\n",
      "Requirement already satisfied: gitpython!=3.1.19,<4,>=3.0.7 in c:\\users\\mahes\\anaconda3\\lib\\site-packages (from streamlit) (3.1.43)\n",
      "Requirement already satisfied: tornado<7,>=6.0.3 in c:\\users\\mahes\\anaconda3\\lib\\site-packages (from streamlit) (6.5.1)\n",
      "Requirement already satisfied: jinja2 in c:\\users\\mahes\\anaconda3\\lib\\site-packages (from altair<6,>=4.0->streamlit) (3.1.6)\n",
      "Requirement already satisfied: jsonschema>=3.0 in c:\\users\\mahes\\anaconda3\\lib\\site-packages (from altair<6,>=4.0->streamlit) (4.23.0)\n",
      "Requirement already satisfied: narwhals>=1.14.2 in c:\\users\\mahes\\anaconda3\\lib\\site-packages (from altair<6,>=4.0->streamlit) (1.31.0)\n",
      "Requirement already satisfied: colorama in c:\\users\\mahes\\anaconda3\\lib\\site-packages (from click<9,>=7.0->streamlit) (0.4.6)\n",
      "Requirement already satisfied: gitdb<5,>=4.0.1 in c:\\users\\mahes\\anaconda3\\lib\\site-packages (from gitpython!=3.1.19,<4,>=3.0.7->streamlit) (4.0.7)\n",
      "Requirement already satisfied: smmap<5,>=3.0.1 in c:\\users\\mahes\\anaconda3\\lib\\site-packages (from gitdb<5,>=4.0.1->gitpython!=3.1.19,<4,>=3.0.7->streamlit) (4.0.0)\n",
      "Requirement already satisfied: python-dateutil>=2.8.2 in c:\\users\\mahes\\anaconda3\\lib\\site-packages (from pandas<3,>=1.4.0->streamlit) (2.9.0.post0)\n",
      "Requirement already satisfied: pytz>=2020.1 in c:\\users\\mahes\\anaconda3\\lib\\site-packages (from pandas<3,>=1.4.0->streamlit) (2024.1)\n",
      "Requirement already satisfied: tzdata>=2022.7 in c:\\users\\mahes\\anaconda3\\lib\\site-packages (from pandas<3,>=1.4.0->streamlit) (2025.2)\n",
      "Requirement already satisfied: charset-normalizer<4,>=2 in c:\\users\\mahes\\anaconda3\\lib\\site-packages (from requests<3,>=2.27->streamlit) (3.3.2)\n",
      "Requirement already satisfied: idna<4,>=2.5 in c:\\users\\mahes\\anaconda3\\lib\\site-packages (from requests<3,>=2.27->streamlit) (3.7)\n",
      "Requirement already satisfied: urllib3<3,>=1.21.1 in c:\\users\\mahes\\anaconda3\\lib\\site-packages (from requests<3,>=2.27->streamlit) (2.3.0)\n",
      "Requirement already satisfied: certifi>=2017.4.17 in c:\\users\\mahes\\anaconda3\\lib\\site-packages (from requests<3,>=2.27->streamlit) (2025.8.3)\n",
      "Requirement already satisfied: attrs>=22.2.0 in c:\\users\\mahes\\anaconda3\\lib\\site-packages (from jsonschema>=3.0->altair<6,>=4.0->streamlit) (24.3.0)\n",
      "Requirement already satisfied: jsonschema-specifications>=2023.03.6 in c:\\users\\mahes\\anaconda3\\lib\\site-packages (from jsonschema>=3.0->altair<6,>=4.0->streamlit) (2023.7.1)\n",
      "Requirement already satisfied: referencing>=0.28.4 in c:\\users\\mahes\\anaconda3\\lib\\site-packages (from jsonschema>=3.0->altair<6,>=4.0->streamlit) (0.30.2)\n",
      "Requirement already satisfied: rpds-py>=0.7.1 in c:\\users\\mahes\\anaconda3\\lib\\site-packages (from jsonschema>=3.0->altair<6,>=4.0->streamlit) (0.22.3)\n",
      "Requirement already satisfied: six>=1.5 in c:\\users\\mahes\\anaconda3\\lib\\site-packages (from python-dateutil>=2.8.2->pandas<3,>=1.4.0->streamlit) (1.17.0)\n",
      "Requirement already satisfied: MarkupSafe>=2.0 in c:\\users\\mahes\\anaconda3\\lib\\site-packages (from jinja2->altair<6,>=4.0->streamlit) (3.0.2)\n",
      "Note: you may need to restart the kernel to use updated packages.\n"
     ]
    }
   ],
   "source": [
    "pip install streamlit\n"
   ]
  },
  {
   "cell_type": "code",
   "execution_count": 23,
   "id": "dbe04609-2dbf-4797-b9e3-94fb5288bf05",
   "metadata": {},
   "outputs": [
    {
     "data": {
      "text/plain": [
       "['scaler.pkl']"
      ]
     },
     "execution_count": 23,
     "metadata": {},
     "output_type": "execute_result"
    }
   ],
   "source": [
    "import joblib\n",
    "\n",
    "# Save model & scaler\n",
    "joblib.dump(best_model, \"alzheimers_model.pkl\")\n",
    "joblib.dump(scaler, \"scaler.pkl\")\n"
   ]
  },
  {
   "cell_type": "code",
   "execution_count": 19,
   "id": "3c95d931-0ba0-46ec-803f-e13a07f58940",
   "metadata": {},
   "outputs": [
    {
     "name": "stdout",
     "output_type": "stream",
     "text": [
      "['Age', 'Educ', 'SES', 'MMSE', 'CDR', 'eTIV', 'nWBV', 'ASF', 'Delay', 'M/F_M']\n"
     ]
    }
   ],
   "source": [
    "print(X.columns.tolist())\n"
   ]
  },
  {
   "cell_type": "code",
   "execution_count": 24,
   "id": "5c2d6caa-b3f0-4def-a990-1cbf45d021f7",
   "metadata": {},
   "outputs": [
    {
     "name": "stdout",
     "output_type": "stream",
     "text": [
      "Model saved successfully!\n"
     ]
    }
   ],
   "source": [
    "import joblib\n",
    "\n",
    "# Assuming 'best_model' is your trained ML model\n",
    "joblib.dump(best_model, \"best_model.pkl\")\n",
    "print(\"Model saved successfully!\")\n"
   ]
  },
  {
   "cell_type": "code",
   "execution_count": 25,
   "id": "08d6a49f-c75e-433b-893c-9deabfd5d723",
   "metadata": {},
   "outputs": [
    {
     "name": "stdout",
     "output_type": "stream",
     "text": [
      "Group\n",
      "0.0    336\n",
      "1.0    100\n",
      "Name: count, dtype: int64\n"
     ]
    }
   ],
   "source": [
    "print(df['Group'].value_counts())\n",
    "\n"
   ]
  },
  {
   "cell_type": "code",
   "execution_count": 26,
   "id": "a724223f-3f64-4e39-a056-1f0d781cc3b1",
   "metadata": {},
   "outputs": [
    {
     "name": "stdout",
     "output_type": "stream",
     "text": [
      "Group\n",
      "1.0    336\n",
      "0.0    336\n",
      "Name: count, dtype: int64\n"
     ]
    }
   ],
   "source": [
    "from sklearn.utils import resample\n",
    "\n",
    "# Separate majority and minority classes\n",
    "df_majority = df[df['Group'] == 0.0]\n",
    "df_minority = df[df['Group'] == 1.0]\n",
    "\n",
    "# Upsample minority class\n",
    "df_minority_upsampled = resample(df_minority,\n",
    "                                 replace=True,                   # Sample with replacement\n",
    "                                 n_samples=len(df_majority),     # Match majority size\n",
    "                                 random_state=42)\n",
    "\n",
    "# Combine balanced dataset\n",
    "df_balanced = pd.concat([df_majority, df_minority_upsampled])\n",
    "\n",
    "# Shuffle dataset\n",
    "df_balanced = df_balanced.sample(frac=1, random_state=42).reset_index(drop=True)\n",
    "\n",
    "print(df_balanced['Group'].value_counts())\n"
   ]
  },
  {
   "cell_type": "code",
   "execution_count": 27,
   "id": "4e28ef94-69aa-4877-bc58-098fc923b4bf",
   "metadata": {},
   "outputs": [],
   "source": [
    "X = df_balanced.drop(['Group'], axis=1)\n",
    "y = df_balanced['Group']\n"
   ]
  },
  {
   "cell_type": "code",
   "execution_count": 28,
   "id": "0e774e72-92e2-4920-86ae-fe215e6c8000",
   "metadata": {},
   "outputs": [],
   "source": [
    "from sklearn.preprocessing import StandardScaler\n",
    "\n",
    "scaler = StandardScaler()\n",
    "X_scaled = scaler.fit_transform(X)\n"
   ]
  },
  {
   "cell_type": "code",
   "execution_count": 29,
   "id": "6bc22718-8003-4245-b6b8-ab84821dc55a",
   "metadata": {},
   "outputs": [],
   "source": [
    "from sklearn.model_selection import train_test_split\n",
    "\n",
    "X_train, X_test, y_train, y_test = train_test_split(\n",
    "    X_scaled, y, test_size=0.2, random_state=42, stratify=y\n",
    ")\n"
   ]
  },
  {
   "cell_type": "code",
   "execution_count": 30,
   "id": "8e5c93d0-bf5c-4264-972d-3743ce5e254b",
   "metadata": {},
   "outputs": [
    {
     "name": "stdout",
     "output_type": "stream",
     "text": [
      "              precision    recall  f1-score   support\n",
      "\n",
      "         0.0       1.00      1.00      1.00        68\n",
      "         1.0       1.00      1.00      1.00        67\n",
      "\n",
      "    accuracy                           1.00       135\n",
      "   macro avg       1.00      1.00      1.00       135\n",
      "weighted avg       1.00      1.00      1.00       135\n",
      "\n"
     ]
    }
   ],
   "source": [
    "from sklearn.ensemble import RandomForestClassifier\n",
    "from sklearn.metrics import classification_report, confusion_matrix\n",
    "\n",
    "model = RandomForestClassifier(n_estimators=200, random_state=42, class_weight=\"balanced\")\n",
    "model.fit(X_train, y_train)\n",
    "\n",
    "y_pred = model.predict(X_test)\n",
    "print(classification_report(y_test, y_pred))\n"
   ]
  },
  {
   "cell_type": "code",
   "execution_count": 31,
   "id": "a9fa35a0-d19b-4dad-9a8f-48ee7095e2b7",
   "metadata": {},
   "outputs": [
    {
     "data": {
      "text/plain": [
       "['scaler.pkl']"
      ]
     },
     "execution_count": 31,
     "metadata": {},
     "output_type": "execute_result"
    }
   ],
   "source": [
    "import joblib\n",
    "joblib.dump(model, \"best_model.pkl\")\n",
    "joblib.dump(scaler, \"scaler.pkl\")\n"
   ]
  },
  {
   "cell_type": "code",
   "execution_count": null,
   "id": "3c83a51e-6db0-4567-8f9f-27986e7b5953",
   "metadata": {},
   "outputs": [],
   "source": [
    "import pandas as pd\n",
    "import joblib\n",
    "from sklearn.model_selection import train_test_split\n",
    "from sklearn.preprocessing import StandardScaler\n",
    "from sklearn.ensemble import RandomForestClassifier\n",
    "from sklearn.utils import resample\n",
    "from sklearn.metrics import classification_report\n",
    "\n",
    "# Load dataset\n",
    "df = pd.read_csv(\"oasis_cross-sectional.csv\")\n",
    "\n",
    "# Clean column names\n",
    "df.columns = df.columns.str.strip()\n",
    "\n",
    "# Balance dataset\n",
    "df_majority = df[df['Group'] == 0.0]\n",
    "df_minority = df[df['Group'] == 1.0]\n",
    "\n",
    "df_minority_upsampled = resample(df_minority, replace=True, n_samples=len(df_majority), random_state=42)\n",
    "df_balanced = pd.concat([df_majority, df_minority_upsampled])\n",
    "\n",
    "# Split features & labels\n",
    "X = df_balanced.drop(['Group'], axis=1)\n",
    "y = df_balanced['Group']\n",
    "\n",
    "# Scale features\n",
    "scaler = StandardScaler()\n",
    "X_scaled = scaler.fit_transform(X)\n",
    "\n",
    "# Split train & test\n",
    "X_train, X_test, y_train, y_test = train_test_split(X_scaled, y, test_size=0.2, random_state=42, stratify=y)\n",
    "\n",
    "# Train model\n",
    "model = RandomForestClassifier(n_estimators=200, random_state=42, class_weight=\"balanced\")\n",
    "model.fit(X_train, y_train)\n",
    "\n",
    "# Evaluate\n",
    "y_pred = model.predict(X_test)\n",
    "print(classification_report(y_test, y_pred))\n",
    "\n",
    "# Save model & scaler\n",
    "joblib.dump(model, \"best_model.pkl\")\n",
    "joblib.dump(scaler, \"scaler.pkl\")\n",
    "print(\"✅ Model & scaler saved successfully!\")\n"
   ]
  },
  {
   "cell_type": "code",
   "execution_count": null,
   "id": "7b9fe48b-40bf-407b-a416-cf140baec263",
   "metadata": {},
   "outputs": [],
   "source": []
  }
 ],
 "metadata": {
  "kernelspec": {
   "display_name": "Python [conda env:base] *",
   "language": "python",
   "name": "conda-base-py"
  },
  "language_info": {
   "codemirror_mode": {
    "name": "ipython",
    "version": 3
   },
   "file_extension": ".py",
   "mimetype": "text/x-python",
   "name": "python",
   "nbconvert_exporter": "python",
   "pygments_lexer": "ipython3",
   "version": "3.13.5"
  }
 },
 "nbformat": 4,
 "nbformat_minor": 5
}
